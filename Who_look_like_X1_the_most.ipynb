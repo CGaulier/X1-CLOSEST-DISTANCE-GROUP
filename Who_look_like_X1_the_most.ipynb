{
  "nbformat": 4,
  "nbformat_minor": 0,
  "metadata": {
    "colab": {
      "name": "Who look like X1 the most.ipynb",
      "provenance": [],
      "collapsed_sections": []
    },
    "kernelspec": {
      "name": "python3",
      "display_name": "Python 3"
    }
  },
  "cells": [
    {
      "cell_type": "code",
      "metadata": {
        "id": "4DUWQkpF4nnC",
        "colab_type": "code",
        "colab": {}
      },
      "source": [
        "import numpy as np\n",
        "import pandas as pd\n",
        "import seaborn as sns\n",
        "import matplotlib.pyplot as plt\n",
        "%matplotlib inline"
      ],
      "execution_count": 0,
      "outputs": []
    },
    {
      "cell_type": "code",
      "metadata": {
        "id": "2Zxjd0oM73MC",
        "colab_type": "code",
        "colab": {}
      },
      "source": [
        "df = pd.read_csv('/content/DISTANCE - Sheet1.csv')"
      ],
      "execution_count": 0,
      "outputs": []
    },
    {
      "cell_type": "code",
      "metadata": {
        "id": "Fg_KWXc578Tv",
        "colab_type": "code",
        "colab": {}
      },
      "source": [
        "te = pd.read_csv('/content/sample_data/california_housing_test.csv')"
      ],
      "execution_count": 0,
      "outputs": []
    },
    {
      "cell_type": "code",
      "metadata": {
        "id": "_vhAKT0d78_w",
        "colab_type": "code",
        "outputId": "f758125f-ee76-43bd-d76e-f93ef1295747",
        "colab": {
          "base_uri": "https://localhost:8080/",
          "height": 1000
        }
      },
      "source": [
        "df"
      ],
      "execution_count": 5,
      "outputs": [
        {
          "output_type": "execute_result",
          "data": {
            "text/html": [
              "<div>\n",
              "<style scoped>\n",
              "    .dataframe tbody tr th:only-of-type {\n",
              "        vertical-align: middle;\n",
              "    }\n",
              "\n",
              "    .dataframe tbody tr th {\n",
              "        vertical-align: top;\n",
              "    }\n",
              "\n",
              "    .dataframe thead th {\n",
              "        text-align: right;\n",
              "    }\n",
              "</style>\n",
              "<table border=\"1\" class=\"dataframe\">\n",
              "  <thead>\n",
              "    <tr style=\"text-align: right;\">\n",
              "      <th></th>\n",
              "      <th>GROUP</th>\n",
              "      <th>sales1ST</th>\n",
              "      <th>rateoveral</th>\n",
              "    </tr>\n",
              "  </thead>\n",
              "  <tbody>\n",
              "    <tr>\n",
              "      <th>0</th>\n",
              "      <td>X1</td>\n",
              "      <td>642583.0</td>\n",
              "      <td>1.409000</td>\n",
              "    </tr>\n",
              "    <tr>\n",
              "      <th>1</th>\n",
              "      <td>BTS</td>\n",
              "      <td>292481.0</td>\n",
              "      <td>-3.823209</td>\n",
              "    </tr>\n",
              "    <tr>\n",
              "      <th>2</th>\n",
              "      <td>EXO</td>\n",
              "      <td>81806.0</td>\n",
              "      <td>0.957273</td>\n",
              "    </tr>\n",
              "    <tr>\n",
              "      <th>3</th>\n",
              "      <td>TVXQ</td>\n",
              "      <td>324299.0</td>\n",
              "      <td>0.905117</td>\n",
              "    </tr>\n",
              "    <tr>\n",
              "      <th>4</th>\n",
              "      <td>Super Junior</td>\n",
              "      <td>621204.0</td>\n",
              "      <td>-5.631086</td>\n",
              "    </tr>\n",
              "    <tr>\n",
              "      <th>5</th>\n",
              "      <td>GOT7</td>\n",
              "      <td>547952.0</td>\n",
              "      <td>-1.063932</td>\n",
              "    </tr>\n",
              "    <tr>\n",
              "      <th>6</th>\n",
              "      <td>Stray Kids</td>\n",
              "      <td>558354.0</td>\n",
              "      <td>1.416326</td>\n",
              "    </tr>\n",
              "    <tr>\n",
              "      <th>7</th>\n",
              "      <td>TXT\\n,438788,1.018314084</td>\n",
              "      <td>NaN</td>\n",
              "      <td>NaN</td>\n",
              "    </tr>\n",
              "    <tr>\n",
              "      <th>8</th>\n",
              "      <td>ONEUS</td>\n",
              "      <td>609751.0</td>\n",
              "      <td>1.018314</td>\n",
              "    </tr>\n",
              "    <tr>\n",
              "      <th>9</th>\n",
              "      <td>ATEEZ</td>\n",
              "      <td>584686.0</td>\n",
              "      <td>-0.082217</td>\n",
              "    </tr>\n",
              "    <tr>\n",
              "      <th>10</th>\n",
              "      <td>Wanna One\\n,-161732,1.607360095</td>\n",
              "      <td>NaN</td>\n",
              "      <td>NaN</td>\n",
              "    </tr>\n",
              "    <tr>\n",
              "      <th>11</th>\n",
              "      <td>Monsta X</td>\n",
              "      <td>498464.0</td>\n",
              "      <td>0.650342</td>\n",
              "    </tr>\n",
              "    <tr>\n",
              "      <th>12</th>\n",
              "      <td>Seventeen</td>\n",
              "      <td>510004.0</td>\n",
              "      <td>-4.267216</td>\n",
              "    </tr>\n",
              "    <tr>\n",
              "      <th>13</th>\n",
              "      <td>The Boyz</td>\n",
              "      <td>573359.0</td>\n",
              "      <td>0.561750</td>\n",
              "    </tr>\n",
              "    <tr>\n",
              "      <th>14</th>\n",
              "      <td>BigBang</td>\n",
              "      <td>500228.0</td>\n",
              "      <td>0.451408</td>\n",
              "    </tr>\n",
              "    <tr>\n",
              "      <th>15</th>\n",
              "      <td>Shinee</td>\n",
              "      <td>562808.0</td>\n",
              "      <td>0.082757</td>\n",
              "    </tr>\n",
              "    <tr>\n",
              "      <th>16</th>\n",
              "      <td>NUEST</td>\n",
              "      <td>608504.0</td>\n",
              "      <td>1.747009</td>\n",
              "    </tr>\n",
              "    <tr>\n",
              "      <th>17</th>\n",
              "      <td>NCT 127</td>\n",
              "      <td>521615.0</td>\n",
              "      <td>0.991567</td>\n",
              "    </tr>\n",
              "    <tr>\n",
              "      <th>18</th>\n",
              "      <td>NCT DREAM</td>\n",
              "      <td>535883.0</td>\n",
              "      <td>-0.825967</td>\n",
              "    </tr>\n",
              "    <tr>\n",
              "      <th>19</th>\n",
              "      <td>AB6IX</td>\n",
              "      <td>474508.0</td>\n",
              "      <td>1.568423</td>\n",
              "    </tr>\n",
              "    <tr>\n",
              "      <th>20</th>\n",
              "      <td>CIX</td>\n",
              "      <td>568793.0</td>\n",
              "      <td>1.378549</td>\n",
              "    </tr>\n",
              "    <tr>\n",
              "      <th>21</th>\n",
              "      <td>GRP 2PM</td>\n",
              "      <td>536124.0</td>\n",
              "      <td>1.061711</td>\n",
              "    </tr>\n",
              "    <tr>\n",
              "      <th>22</th>\n",
              "      <td>NUEST W</td>\n",
              "      <td>334475.0</td>\n",
              "      <td>1.719810</td>\n",
              "    </tr>\n",
              "    <tr>\n",
              "      <th>23</th>\n",
              "      <td>HOTSHOT</td>\n",
              "      <td>640105.0</td>\n",
              "      <td>-4.702784</td>\n",
              "    </tr>\n",
              "    <tr>\n",
              "      <th>24</th>\n",
              "      <td>JBJ95</td>\n",
              "      <td>590506.0</td>\n",
              "      <td>1.534353</td>\n",
              "    </tr>\n",
              "    <tr>\n",
              "      <th>25</th>\n",
              "      <td>VICTON</td>\n",
              "      <td>619641.0</td>\n",
              "      <td>-0.842765</td>\n",
              "    </tr>\n",
              "    <tr>\n",
              "      <th>26</th>\n",
              "      <td>WINNER</td>\n",
              "      <td>549686.0</td>\n",
              "      <td>1.098484</td>\n",
              "    </tr>\n",
              "    <tr>\n",
              "      <th>27</th>\n",
              "      <td>IKON</td>\n",
              "      <td>481929.0</td>\n",
              "      <td>1.723172</td>\n",
              "    </tr>\n",
              "    <tr>\n",
              "      <th>28</th>\n",
              "      <td>BAP</td>\n",
              "      <td>613178.0</td>\n",
              "      <td>-0.643066</td>\n",
              "    </tr>\n",
              "    <tr>\n",
              "      <th>29</th>\n",
              "      <td>BTOB</td>\n",
              "      <td>620886.0</td>\n",
              "      <td>0.951471</td>\n",
              "    </tr>\n",
              "    <tr>\n",
              "      <th>30</th>\n",
              "      <td>BLOCK B</td>\n",
              "      <td>610924.0</td>\n",
              "      <td>0.349901</td>\n",
              "    </tr>\n",
              "    <tr>\n",
              "      <th>31</th>\n",
              "      <td>INFINITE</td>\n",
              "      <td>591413.0</td>\n",
              "      <td>-0.783163</td>\n",
              "    </tr>\n",
              "  </tbody>\n",
              "</table>\n",
              "</div>"
            ],
            "text/plain": [
              "                              GROUP  sales1ST  rateoveral\n",
              "0                                X1  642583.0    1.409000\n",
              "1                               BTS  292481.0   -3.823209\n",
              "2                               EXO   81806.0    0.957273\n",
              "3                              TVXQ  324299.0    0.905117\n",
              "4                      Super Junior  621204.0   -5.631086\n",
              "5                              GOT7  547952.0   -1.063932\n",
              "6                        Stray Kids  558354.0    1.416326\n",
              "7          TXT\\n,438788,1.018314084       NaN         NaN\n",
              "8                             ONEUS  609751.0    1.018314\n",
              "9                             ATEEZ  584686.0   -0.082217\n",
              "10  Wanna One\\n,-161732,1.607360095       NaN         NaN\n",
              "11                         Monsta X  498464.0    0.650342\n",
              "12                        Seventeen  510004.0   -4.267216\n",
              "13                         The Boyz  573359.0    0.561750\n",
              "14                          BigBang  500228.0    0.451408\n",
              "15                           Shinee  562808.0    0.082757\n",
              "16                            NUEST  608504.0    1.747009\n",
              "17                          NCT 127  521615.0    0.991567\n",
              "18                        NCT DREAM  535883.0   -0.825967\n",
              "19                            AB6IX  474508.0    1.568423\n",
              "20                              CIX  568793.0    1.378549\n",
              "21                          GRP 2PM  536124.0    1.061711\n",
              "22                          NUEST W  334475.0    1.719810\n",
              "23                          HOTSHOT  640105.0   -4.702784\n",
              "24                            JBJ95  590506.0    1.534353\n",
              "25                           VICTON  619641.0   -0.842765\n",
              "26                           WINNER  549686.0    1.098484\n",
              "27                             IKON  481929.0    1.723172\n",
              "28                              BAP  613178.0   -0.643066\n",
              "29                             BTOB  620886.0    0.951471\n",
              "30                          BLOCK B  610924.0    0.349901\n",
              "31                         INFINITE  591413.0   -0.783163"
            ]
          },
          "metadata": {
            "tags": []
          },
          "execution_count": 5
        }
      ]
    },
    {
      "cell_type": "code",
      "metadata": {
        "id": "NAxJfKrM8FgG",
        "colab_type": "code",
        "outputId": "9aadfdc0-b91d-4d6f-9d7c-c0aedcb027f6",
        "colab": {
          "base_uri": "https://localhost:8080/",
          "height": 369
        }
      },
      "source": [
        "g = sns.lmplot(x=\"sales1ST\", y=\"rateoveral\",\n",
        "               height=5, data=df)"
      ],
      "execution_count": 6,
      "outputs": [
        {
          "output_type": "display_data",
          "data": {
            "image/png": "[encoded data removed]",
            "text/plain": [
              "<Figure size 360x360 with 1 Axes>"
            ]
          },
          "metadata": {
            "tags": []
          }
        }
      ]
    },
    {
      "cell_type": "code",
      "metadata": {
        "id": "FAcQaT0m_UHR",
        "colab_type": "code",
        "outputId": "605a7ba3-ebe4-4653-801d-3a5eb8a0cfe8",
        "colab": {
          "base_uri": "https://localhost:8080/",
          "height": 571
        }
      },
      "source": [
        "\n",
        "sns.relplot(x=\"rateoveral\", y=\"sales1ST\", hue=\"GROUP\",\n",
        "            sizes=(40, 400), alpha=.5, palette=\"muted\",\n",
        "            height=6, data=df)"
      ],
      "execution_count": 7,
      "outputs": [
        {
          "output_type": "execute_result",
          "data": {
            "text/plain": [
              "<seaborn.axisgrid.FacetGrid at 0x7efe59a5a5f8>"
            ]
          },
          "metadata": {
            "tags": []
          },
          "execution_count": 7
        },
        {
          "output_type": "display_data",
          "data": {
            "image/png": "[encoded data removed]",
            "text/plain": [
              "<Figure size 582.5x432 with 1 Axes>"
            ]
          },
          "metadata": {
            "tags": []
          }
        }
      ]
    },
    {
      "cell_type": "code",
      "metadata": {
        "id": "t-8GZZU3_ti0",
        "colab_type": "code",
        "colab": {}
      },
      "source": [
        "df2 = df.nsmallest(5, 'sales1ST')"
      ],
      "execution_count": 0,
      "outputs": []
    },
    {
      "cell_type": "code",
      "metadata": {
        "id": "HP0y1XrQAUXP",
        "colab_type": "code",
        "colab": {}
      },
      "source": [
        "df3 = df.loc[df['GROUP'] == 'X1']"
      ],
      "execution_count": 0,
      "outputs": []
    },
    {
      "cell_type": "code",
      "metadata": {
        "id": "H-ayTPBuAU9q",
        "colab_type": "code",
        "colab": {}
      },
      "source": [
        "dr = df[df['rateoveral']>=-1]"
      ],
      "execution_count": 0,
      "outputs": []
    },
    {
      "cell_type": "code",
      "metadata": {
        "id": "lkMvuiRiNWjI",
        "colab_type": "code",
        "colab": {}
      },
      "source": [
        "dr = dr.nsmallest(5, 'sales1ST')"
      ],
      "execution_count": 0,
      "outputs": []
    },
    {
      "cell_type": "code",
      "metadata": {
        "id": "SoyHIAvvDTxj",
        "colab_type": "code",
        "outputId": "492f3aad-207b-491f-fdbe-7d69a28abb6c",
        "colab": {
          "base_uri": "https://localhost:8080/",
          "height": 80
        }
      },
      "source": [
        "df3"
      ],
      "execution_count": 11,
      "outputs": [
        {
          "output_type": "execute_result",
          "data": {
            "text/html": [
              "<div>\n",
              "<style scoped>\n",
              "    .dataframe tbody tr th:only-of-type {\n",
              "        vertical-align: middle;\n",
              "    }\n",
              "\n",
              "    .dataframe tbody tr th {\n",
              "        vertical-align: top;\n",
              "    }\n",
              "\n",
              "    .dataframe thead th {\n",
              "        text-align: right;\n",
              "    }\n",
              "</style>\n",
              "<table border=\"1\" class=\"dataframe\">\n",
              "  <thead>\n",
              "    <tr style=\"text-align: right;\">\n",
              "      <th></th>\n",
              "      <th>GROUP</th>\n",
              "      <th>sales1ST</th>\n",
              "      <th>rateoveral</th>\n",
              "    </tr>\n",
              "  </thead>\n",
              "  <tbody>\n",
              "    <tr>\n",
              "      <th>0</th>\n",
              "      <td>X1</td>\n",
              "      <td>642583.0</td>\n",
              "      <td>1.409</td>\n",
              "    </tr>\n",
              "  </tbody>\n",
              "</table>\n",
              "</div>"
            ],
            "text/plain": [
              "  GROUP  sales1ST  rateoveral\n",
              "0    X1  642583.0       1.409"
            ]
          },
          "metadata": {
            "tags": []
          },
          "execution_count": 11
        }
      ]
    },
    {
      "cell_type": "code",
      "metadata": {
        "id": "r1mg2h0xG4wA",
        "colab_type": "code",
        "colab": {}
      },
      "source": [
        "dff = pd.concat([df3, df2])"
      ],
      "execution_count": 0,
      "outputs": []
    },
    {
      "cell_type": "code",
      "metadata": {
        "id": "HeO8mBePHJfa",
        "colab_type": "code",
        "outputId": "174aa3e1-5aa7-4b06-d226-330b5afe8328",
        "colab": {
          "base_uri": "https://localhost:8080/",
          "height": 237
        }
      },
      "source": [
        "dff"
      ],
      "execution_count": 13,
      "outputs": [
        {
          "output_type": "execute_result",
          "data": {
            "text/html": [
              "<div>\n",
              "<style scoped>\n",
              "    .dataframe tbody tr th:only-of-type {\n",
              "        vertical-align: middle;\n",
              "    }\n",
              "\n",
              "    .dataframe tbody tr th {\n",
              "        vertical-align: top;\n",
              "    }\n",
              "\n",
              "    .dataframe thead th {\n",
              "        text-align: right;\n",
              "    }\n",
              "</style>\n",
              "<table border=\"1\" class=\"dataframe\">\n",
              "  <thead>\n",
              "    <tr style=\"text-align: right;\">\n",
              "      <th></th>\n",
              "      <th>GROUP</th>\n",
              "      <th>sales1ST</th>\n",
              "      <th>rateoveral</th>\n",
              "    </tr>\n",
              "  </thead>\n",
              "  <tbody>\n",
              "    <tr>\n",
              "      <th>0</th>\n",
              "      <td>X1</td>\n",
              "      <td>642583.0</td>\n",
              "      <td>1.409000</td>\n",
              "    </tr>\n",
              "    <tr>\n",
              "      <th>4</th>\n",
              "      <td>Super Junior</td>\n",
              "      <td>621204.0</td>\n",
              "      <td>-5.631086</td>\n",
              "    </tr>\n",
              "    <tr>\n",
              "      <th>23</th>\n",
              "      <td>HOTSHOT</td>\n",
              "      <td>640105.0</td>\n",
              "      <td>-4.702784</td>\n",
              "    </tr>\n",
              "    <tr>\n",
              "      <th>12</th>\n",
              "      <td>Seventeen</td>\n",
              "      <td>510004.0</td>\n",
              "      <td>-4.267216</td>\n",
              "    </tr>\n",
              "    <tr>\n",
              "      <th>1</th>\n",
              "      <td>BTS</td>\n",
              "      <td>292481.0</td>\n",
              "      <td>-3.823209</td>\n",
              "    </tr>\n",
              "    <tr>\n",
              "      <th>5</th>\n",
              "      <td>GOT7</td>\n",
              "      <td>547952.0</td>\n",
              "      <td>-1.063932</td>\n",
              "    </tr>\n",
              "  </tbody>\n",
              "</table>\n",
              "</div>"
            ],
            "text/plain": [
              "           GROUP  sales1ST  rateoveral\n",
              "0             X1  642583.0    1.409000\n",
              "4   Super Junior  621204.0   -5.631086\n",
              "23       HOTSHOT  640105.0   -4.702784\n",
              "12     Seventeen  510004.0   -4.267216\n",
              "1            BTS  292481.0   -3.823209\n",
              "5           GOT7  547952.0   -1.063932"
            ]
          },
          "metadata": {
            "tags": []
          },
          "execution_count": 13
        }
      ]
    },
    {
      "cell_type": "code",
      "metadata": {
        "id": "MHt4tm78HKOM",
        "colab_type": "code",
        "outputId": "00ec8a82-8957-46c9-94f5-4add540e760d",
        "colab": {
          "base_uri": "https://localhost:8080/",
          "height": 460
        }
      },
      "source": [
        "sns.relplot(x=\"rateoveral\", y=\"sales1ST\", hue=\"GROUP\",\n",
        "            alpha=.5, palette=\"dark\",\n",
        "            height=6, data=dff)"
      ],
      "execution_count": 14,
      "outputs": [
        {
          "output_type": "execute_result",
          "data": {
            "text/plain": [
              "<seaborn.axisgrid.FacetGrid at 0x7efe595d8b00>"
            ]
          },
          "metadata": {
            "tags": []
          },
          "execution_count": 14
        },
        {
          "output_type": "display_data",
          "data": {
            "image/png": "[encoded data removed]",
            "text/plain": [
              "<Figure size 528.875x432 with 1 Axes>"
            ]
          },
          "metadata": {
            "tags": []
          }
        }
      ]
    },
    {
      "cell_type": "code",
      "metadata": {
        "id": "golFJE47HPL4",
        "colab_type": "code",
        "outputId": "80dc975a-bcc8-4faa-8d16-0c16d038ff5b",
        "colab": {
          "base_uri": "https://localhost:8080/",
          "height": 369
        }
      },
      "source": [
        "g = sns.lmplot(x=\"sales1ST\", y=\"rateoveral\",\n",
        "               height=5, data=dff)"
      ],
      "execution_count": 15,
      "outputs": [
        {
          "output_type": "display_data",
          "data": {
            "image/png": "[encoded data removed]",
            "text/plain": [
              "<Figure size 360x360 with 1 Axes>"
            ]
          },
          "metadata": {
            "tags": []
          }
        }
      ]
    },
    {
      "cell_type": "code",
      "metadata": {
        "id": "XdfvfMygHqqo",
        "colab_type": "code",
        "colab": {}
      },
      "source": [
        "#Distance has been calculated so its only to find who has the smallest distance"
      ],
      "execution_count": 0,
      "outputs": []
    },
    {
      "cell_type": "code",
      "metadata": {
        "id": "YxZxxTkxIOib",
        "colab_type": "code",
        "outputId": "30986927-cd0f-420a-c2f6-152a7b85c478",
        "colab": {
          "base_uri": "https://localhost:8080/",
          "height": 304
        }
      },
      "source": [
        "sns.barplot(x=\"sales1ST\", y=\"GROUP\", data=df2)"
      ],
      "execution_count": 0,
      "outputs": [
        {
          "output_type": "execute_result",
          "data": {
            "text/plain": [
              "<matplotlib.axes._subplots.AxesSubplot at 0x7f798fee4240>"
            ]
          },
          "metadata": {
            "tags": []
          },
          "execution_count": 122
        },
        {
          "output_type": "display_data",
          "data": {
            "image/png": "[encoded data removed]",
            "text/plain": [
              "<Figure size 432x288 with 1 Axes>"
            ]
          },
          "metadata": {
            "tags": []
          }
        }
      ]
    },
    {
      "cell_type": "code",
      "metadata": {
        "id": "tZVccZQ3Io9G",
        "colab_type": "code",
        "outputId": "bbb049b6-203e-4085-a0f7-f6c8e3a355b9",
        "colab": {
          "base_uri": "https://localhost:8080/",
          "height": 304
        }
      },
      "source": [
        "sns.barplot(x=\"rateoveral\", y=\"GROUP\", data=dff)"
      ],
      "execution_count": 0,
      "outputs": [
        {
          "output_type": "execute_result",
          "data": {
            "text/plain": [
              "<matplotlib.axes._subplots.AxesSubplot at 0x7f798feadb38>"
            ]
          },
          "metadata": {
            "tags": []
          },
          "execution_count": 123
        },
        {
          "output_type": "display_data",
          "data": {
            "image/png": "[encoded data removed]",
            "text/plain": [
              "<Figure size 432x288 with 1 Axes>"
            ]
          },
          "metadata": {
            "tags": []
          }
        }
      ]
    },
    {
      "cell_type": "code",
      "metadata": {
        "id": "zFNyrOrXJ026",
        "colab_type": "code",
        "colab": {}
      },
      "source": [
        "#EXO is the closest to X1"
      ],
      "execution_count": 0,
      "outputs": []
    },
    {
      "cell_type": "code",
      "metadata": {
        "id": "gTgxTm43MCJb",
        "colab_type": "code",
        "colab": {
          "base_uri": "https://localhost:8080/",
          "height": 206
        },
        "outputId": "836adb13-6ee7-4bee-ef62-ec3fc710d3ce"
      },
      "source": [
        "dr"
      ],
      "execution_count": 32,
      "outputs": [
        {
          "output_type": "execute_result",
          "data": {
            "text/html": [
              "<div>\n",
              "<style scoped>\n",
              "    .dataframe tbody tr th:only-of-type {\n",
              "        vertical-align: middle;\n",
              "    }\n",
              "\n",
              "    .dataframe tbody tr th {\n",
              "        vertical-align: top;\n",
              "    }\n",
              "\n",
              "    .dataframe thead th {\n",
              "        text-align: right;\n",
              "    }\n",
              "</style>\n",
              "<table border=\"1\" class=\"dataframe\">\n",
              "  <thead>\n",
              "    <tr style=\"text-align: right;\">\n",
              "      <th></th>\n",
              "      <th>GROUP</th>\n",
              "      <th>sales1ST</th>\n",
              "      <th>rateoveral</th>\n",
              "    </tr>\n",
              "  </thead>\n",
              "  <tbody>\n",
              "    <tr>\n",
              "      <th>2</th>\n",
              "      <td>EXO</td>\n",
              "      <td>81806.0</td>\n",
              "      <td>0.957273</td>\n",
              "    </tr>\n",
              "    <tr>\n",
              "      <th>3</th>\n",
              "      <td>TVXQ</td>\n",
              "      <td>324299.0</td>\n",
              "      <td>0.905117</td>\n",
              "    </tr>\n",
              "    <tr>\n",
              "      <th>22</th>\n",
              "      <td>NUEST W</td>\n",
              "      <td>334475.0</td>\n",
              "      <td>1.719810</td>\n",
              "    </tr>\n",
              "    <tr>\n",
              "      <th>19</th>\n",
              "      <td>AB6IX</td>\n",
              "      <td>474508.0</td>\n",
              "      <td>1.568423</td>\n",
              "    </tr>\n",
              "    <tr>\n",
              "      <th>27</th>\n",
              "      <td>IKON</td>\n",
              "      <td>481929.0</td>\n",
              "      <td>1.723172</td>\n",
              "    </tr>\n",
              "  </tbody>\n",
              "</table>\n",
              "</div>"
            ],
            "text/plain": [
              "      GROUP  sales1ST  rateoveral\n",
              "2       EXO   81806.0    0.957273\n",
              "3      TVXQ  324299.0    0.905117\n",
              "22  NUEST W  334475.0    1.719810\n",
              "19    AB6IX  474508.0    1.568423\n",
              "27     IKON  481929.0    1.723172"
            ]
          },
          "metadata": {
            "tags": []
          },
          "execution_count": 32
        }
      ]
    },
    {
      "cell_type": "code",
      "metadata": {
        "id": "P-gUNUIyMCrK",
        "colab_type": "code",
        "colab": {}
      },
      "source": [
        "#smallest by rates"
      ],
      "execution_count": 0,
      "outputs": []
    },
    {
      "cell_type": "code",
      "metadata": {
        "id": "riJPFz88MFHa",
        "colab_type": "code",
        "colab": {
          "base_uri": "https://localhost:8080/",
          "height": 369
        },
        "outputId": "afd99f12-e595-49d6-f56c-44841f8f82c1"
      },
      "source": [
        "g = sns.lmplot(x=\"rateoveral\", y=\"sales1ST\",\n",
        "               height=5, data=dr)"
      ],
      "execution_count": 33,
      "outputs": [
        {
          "output_type": "display_data",
          "data": {
            "image/png": "[encoded data removed]",
            "text/plain": [
              "<Figure size 360x360 with 1 Axes>"
            ]
          },
          "metadata": {
            "tags": []
          }
        }
      ]
    },
    {
      "cell_type": "code",
      "metadata": {
        "id": "YyNHqZb_MH8y",
        "colab_type": "code",
        "colab": {
          "base_uri": "https://localhost:8080/",
          "height": 298
        },
        "outputId": "0f3018f1-a725-4aba-cd47-ace736d60fa8"
      },
      "source": [
        "sns.barplot(x=\"sales1ST\", y=\"GROUP\", data=dr)"
      ],
      "execution_count": 34,
      "outputs": [
        {
          "output_type": "execute_result",
          "data": {
            "text/plain": [
              "<matplotlib.axes._subplots.AxesSubplot at 0x7efe58e5c278>"
            ]
          },
          "metadata": {
            "tags": []
          },
          "execution_count": 34
        },
        {
          "output_type": "display_data",
          "data": {
            "image/png": "[encoded data removed]",
            "text/plain": [
              "<Figure size 432x288 with 1 Axes>"
            ]
          },
          "metadata": {
            "tags": []
          }
        }
      ]
    },
    {
      "cell_type": "code",
      "metadata": {
        "id": "IKlO6WzyMMq3",
        "colab_type": "code",
        "colab": {
          "base_uri": "https://localhost:8080/",
          "height": 298
        },
        "outputId": "9341a5e0-52d3-4529-f5da-68e107c96686"
      },
      "source": [
        "sns.barplot(x=\"rateoveral\", y=\"GROUP\", data=dr)"
      ],
      "execution_count": 35,
      "outputs": [
        {
          "output_type": "execute_result",
          "data": {
            "text/plain": [
              "<matplotlib.axes._subplots.AxesSubplot at 0x7efe58dd70b8>"
            ]
          },
          "metadata": {
            "tags": []
          },
          "execution_count": 35
        },
        {
          "output_type": "display_data",
          "data": {
            "image/png": "[encoded data removed]",
            "text/plain": [
              "<Figure size 432x288 with 1 Axes>"
            ]
          },
          "metadata": {
            "tags": []
          }
        }
      ]
    },
    {
      "cell_type": "code",
      "metadata": {
        "id": "nt-DgxKVMPXG",
        "colab_type": "code",
        "colab": {}
      },
      "source": [
        ""
      ],
      "execution_count": 0,
      "outputs": []
    }
  ]
}